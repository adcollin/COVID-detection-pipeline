{
  "nbformat": 4,
  "nbformat_minor": 0,
  "metadata": {
    "colab": {
      "provenance": []
    },
    "kernelspec": {
      "name": "python3",
      "display_name": "Python 3"
    },
    "language_info": {
      "name": "python"
    }
  },
  "cells": [
    {
      "cell_type": "code",
      "execution_count": 12,
      "metadata": {
        "id": "ZbMeoE-aLX3C"
      },
      "outputs": [],
      "source": [
        "# Import package\n",
        "import numpy as np\n",
        "import pandas as pd\n",
        "import matplotlib.pyplot as plt"
      ]
    },
    {
      "cell_type": "code",
      "source": [
        "# Read in labels file\n",
        "df = pd.read_csv('Data_Entry_2017_v2020.csv')\n",
        "print(df.head())\n",
        "print(df.shape)"
      ],
      "metadata": {
        "colab": {
          "base_uri": "https://localhost:8080/"
        },
        "id": "EMhWylsPMNQ6",
        "outputId": "c627e3d3-cf09-4f7e-b1bc-c6ddf4eedef3"
      },
      "execution_count": 5,
      "outputs": [
        {
          "output_type": "stream",
          "name": "stdout",
          "text": [
            "        Image Index          Finding Labels  Follow-up #  Patient ID  \\\n",
            "0  00000001_000.png            Cardiomegaly            0           1   \n",
            "1  00000001_001.png  Cardiomegaly|Emphysema            1           1   \n",
            "2  00000001_002.png   Cardiomegaly|Effusion            2           1   \n",
            "3  00000002_000.png              No Finding            0           2   \n",
            "4  00000003_001.png                  Hernia            0           3   \n",
            "\n",
            "   Patient Age Patient Gender View Position  OriginalImage[Width  Height]  \\\n",
            "0           57              M            PA                 2682     2749   \n",
            "1           58              M            PA                 2894     2729   \n",
            "2           58              M            PA                 2500     2048   \n",
            "3           80              M            PA                 2500     2048   \n",
            "4           74              F            PA                 2500     2048   \n",
            "\n",
            "   OriginalImagePixelSpacing[x     y]  \n",
            "0                        0.143  0.143  \n",
            "1                        0.143  0.143  \n",
            "2                        0.168  0.168  \n",
            "3                        0.171  0.171  \n",
            "4                        0.168  0.168  \n",
            "(112120, 11)\n"
          ]
        }
      ]
    },
    {
      "cell_type": "code",
      "source": [
        "# Split values in the 'Finding Labels' column by '|'\n",
        "split_values = df['Finding Labels'].str.split('|')\n",
        "\n",
        "# Create a set to store unique findings\n",
        "unique_findings = set()\n",
        "\n",
        "# Iterate over each row and add the findings to the set\n",
        "for values in split_values:\n",
        "    unique_findings.update(values)\n",
        "\n",
        "print(\"Unique findings mentioned in the 'Finding Labels' column:\")\n",
        "print(unique_findings)"
      ],
      "metadata": {
        "colab": {
          "base_uri": "https://localhost:8080/"
        },
        "id": "XhmOVT2LQToB",
        "outputId": "e5634280-d4b7-4556-88bd-e30dc36bf2df"
      },
      "execution_count": 8,
      "outputs": [
        {
          "output_type": "stream",
          "name": "stdout",
          "text": [
            "Unique findings mentioned in the 'Finding Labels' column:\n",
            "{'No Finding', 'Atelectasis', 'Pneumothorax', 'Nodule', 'Emphysema', 'Fibrosis', 'Effusion', 'Edema', 'Mass', 'Pneumonia', 'Hernia', 'Infiltration', 'Pleural_Thickening', 'Cardiomegaly', 'Consolidation'}\n"
          ]
        }
      ]
    },
    {
      "cell_type": "code",
      "source": [
        "# Filter rows for only negative cases\n",
        "filtered_df = df[df['Finding Labels'] == 'No Finding']\n",
        "print(filtered_df.head())\n",
        "print(filtered_df.shape)"
      ],
      "metadata": {
        "colab": {
          "base_uri": "https://localhost:8080/"
        },
        "id": "W_LdXp0VO1jH",
        "outputId": "26cbf24a-a049-4345-90ca-e951bc3a6d13"
      },
      "execution_count": 6,
      "outputs": [
        {
          "output_type": "stream",
          "name": "stdout",
          "text": [
            "         Image Index Finding Labels  Follow-up #  Patient ID  Patient Age  \\\n",
            "3   00000002_000.png     No Finding            0           2           80   \n",
            "13  00000005_000.png     No Finding            0           5           69   \n",
            "14  00000005_001.png     No Finding            1           5           69   \n",
            "15  00000005_002.png     No Finding            2           5           69   \n",
            "16  00000005_003.png     No Finding            3           5           69   \n",
            "\n",
            "   Patient Gender View Position  OriginalImage[Width  Height]  \\\n",
            "3               M            PA                 2500     2048   \n",
            "13              F            PA                 2048     2500   \n",
            "14              F            AP                 2500     2048   \n",
            "15              F            AP                 2500     2048   \n",
            "16              F            PA                 2992     2991   \n",
            "\n",
            "    OriginalImagePixelSpacing[x     y]  \n",
            "3                         0.171  0.171  \n",
            "13                        0.168  0.168  \n",
            "14                        0.168  0.168  \n",
            "15                        0.168  0.168  \n",
            "16                        0.143  0.143  \n",
            "(60361, 11)\n"
          ]
        }
      ]
    },
    {
      "cell_type": "code",
      "source": [
        "# Count the number of unique patients among those with 'No Finding'\n",
        "unique_patients_count = filtered_df['Patient ID'].nunique()\n",
        "\n",
        "print(\"Number of unique patients with 'No Finding':\", unique_patients_count)"
      ],
      "metadata": {
        "colab": {
          "base_uri": "https://localhost:8080/"
        },
        "id": "5-oHVDBqQmOK",
        "outputId": "7c33b2cc-3059-4a68-b86d-e9ad015de72e"
      },
      "execution_count": 9,
      "outputs": [
        {
          "output_type": "stream",
          "name": "stdout",
          "text": [
            "Number of unique patients with 'No Finding': 24907\n"
          ]
        }
      ]
    },
    {
      "cell_type": "code",
      "source": [
        "# Group the DataFrame by 'Patient ID' and count the number of occurrences\n",
        "x_ray_counts_per_patient = filtered_df.groupby('Patient ID').size()\n",
        "\n",
        "# Sort the counts in descending order\n",
        "sorted_counts = x_ray_counts_per_patient.sort_values(ascending=False)\n",
        "\n",
        "print(\"X-ray counts per patient sorted in descending order:\")\n",
        "print(sorted_counts)"
      ],
      "metadata": {
        "colab": {
          "base_uri": "https://localhost:8080/"
        },
        "id": "CUk-oTkhSlU7",
        "outputId": "f9ff5ae0-775e-43c8-f016-ee8b776dcaa5"
      },
      "execution_count": 25,
      "outputs": [
        {
          "output_type": "stream",
          "name": "stdout",
          "text": [
            "X-ray counts per patient sorted in descending order:\n",
            "Patient ID\n",
            "4006     59\n",
            "1836     58\n",
            "6271     54\n",
            "4808     54\n",
            "13670    54\n",
            "         ..\n",
            "12865     1\n",
            "12866     1\n",
            "12867     1\n",
            "12871     1\n",
            "30805     1\n",
            "Length: 24907, dtype: int64\n"
          ]
        }
      ]
    },
    {
      "cell_type": "code",
      "source": [
        "# Calculate the threshold count for the top 5%\n",
        "threshold_count = int(0.05 * len(sorted_counts))\n",
        "\n",
        "# Get the top 5% of counts\n",
        "top_5_counts = sorted_counts.head(threshold_count)\n",
        "\n",
        "# Plot the counts\n",
        "plt.figure(figsize=(10, 6))\n",
        "top_5_counts.plot(kind='bar')\n",
        "plt.xlabel('Patient ID')\n",
        "plt.ylabel('Number of X-rays')\n",
        "plt.title('Top 5% of X-rays per Patient')\n",
        "# Set fewer x-axis labels\n",
        "step = max(1, len(top_5_counts) // 20)\n",
        "plt.xticks(range(0, len(top_5_counts), step), top_5_counts.index[::step], rotation=90)\n",
        "plt.tight_layout()\n",
        "plt.show()"
      ],
      "metadata": {
        "colab": {
          "base_uri": "https://localhost:8080/",
          "height": 607
        },
        "id": "-LQgRTp1UwEK",
        "outputId": "82ed83ce-8828-4d8b-dcb9-04ba4360a112"
      },
      "execution_count": 28,
      "outputs": [
        {
          "output_type": "display_data",
          "data": {
            "text/plain": [
              "<Figure size 1000x600 with 1 Axes>"
            ],
            "image/png": "[encoded data removed]"
          },
          "metadata": {}
        }
      ]
    }
  ]
}