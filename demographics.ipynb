{
 "cells": [
  {
   "cell_type": "code",
   "execution_count": 19,
   "metadata": {},
   "outputs": [],
   "source": [
    "import pandas as pd\n",
    "import matplotlib.pyplot as plt \n",
    "import numpy as np"
   ]
  },
  {
   "cell_type": "code",
   "execution_count": 6,
   "metadata": {},
   "outputs": [],
   "source": [
    "df = pd.read_csv(\"Brixia_metadata_global_v2.csv\", delimiter=';')"
   ]
  },
  {
   "cell_type": "code",
   "execution_count": 23,
   "metadata": {},
   "outputs": [
    {
     "data": {
      "text/plain": [
       "4583"
      ]
     },
     "execution_count": 23,
     "metadata": {},
     "output_type": "execute_result"
    }
   ],
   "source": [
    "len(np.unique(df['StudyId']))"
   ]
  },
  {
   "cell_type": "code",
   "execution_count": 24,
   "metadata": {},
   "outputs": [
    {
     "data": {
      "text/plain": [
       "4583"
      ]
     },
     "execution_count": 24,
     "metadata": {},
     "output_type": "execute_result"
    }
   ],
   "source": [
    "len(set(df['StudyId']))"
   ]
  },
  {
   "cell_type": "code",
   "execution_count": 14,
   "metadata": {},
   "outputs": [
    {
     "data": {
      "text/html": [
       "<div>\n",
       "<style scoped>\n",
       "    .dataframe tbody tr th:only-of-type {\n",
       "        vertical-align: middle;\n",
       "    }\n",
       "\n",
       "    .dataframe tbody tr th {\n",
       "        vertical-align: top;\n",
       "    }\n",
       "\n",
       "    .dataframe thead th {\n",
       "        text-align: right;\n",
       "    }\n",
       "</style>\n",
       "<table border=\"1\" class=\"dataframe\">\n",
       "  <thead>\n",
       "    <tr style=\"text-align: right;\">\n",
       "      <th></th>\n",
       "      <th>StudyDate</th>\n",
       "      <th>Columns</th>\n",
       "      <th>Rows</th>\n",
       "      <th>BrixiaScore</th>\n",
       "      <th>BrixiaScoreGlobal</th>\n",
       "      <th>ConsensusTestset</th>\n",
       "      <th>AgeAtStudyDateFiveYear</th>\n",
       "    </tr>\n",
       "  </thead>\n",
       "  <tbody>\n",
       "    <tr>\n",
       "      <th>count</th>\n",
       "      <td>4.695000e+03</td>\n",
       "      <td>4695.000000</td>\n",
       "      <td>4695.000000</td>\n",
       "      <td>4695.000000</td>\n",
       "      <td>4695.000000</td>\n",
       "      <td>4695.000000</td>\n",
       "      <td>4695.000000</td>\n",
       "    </tr>\n",
       "    <tr>\n",
       "      <th>mean</th>\n",
       "      <td>2.020033e+07</td>\n",
       "      <td>2893.870714</td>\n",
       "      <td>2405.938871</td>\n",
       "      <td>102119.305005</td>\n",
       "      <td>8.301171</td>\n",
       "      <td>0.031949</td>\n",
       "      <td>12.476677</td>\n",
       "    </tr>\n",
       "    <tr>\n",
       "      <th>std</th>\n",
       "      <td>3.216685e+01</td>\n",
       "      <td>152.103555</td>\n",
       "      <td>142.821628</td>\n",
       "      <td>99594.274301</td>\n",
       "      <td>4.238625</td>\n",
       "      <td>0.175883</td>\n",
       "      <td>2.723331</td>\n",
       "    </tr>\n",
       "    <tr>\n",
       "      <th>min</th>\n",
       "      <td>2.020030e+07</td>\n",
       "      <td>2019.000000</td>\n",
       "      <td>1056.000000</td>\n",
       "      <td>0.000000</td>\n",
       "      <td>0.000000</td>\n",
       "      <td>0.000000</td>\n",
       "      <td>1.000000</td>\n",
       "    </tr>\n",
       "    <tr>\n",
       "      <th>25%</th>\n",
       "      <td>2.020032e+07</td>\n",
       "      <td>2866.000000</td>\n",
       "      <td>2350.000000</td>\n",
       "      <td>12002.000000</td>\n",
       "      <td>5.000000</td>\n",
       "      <td>0.000000</td>\n",
       "      <td>11.000000</td>\n",
       "    </tr>\n",
       "    <tr>\n",
       "      <th>50%</th>\n",
       "      <td>2.020032e+07</td>\n",
       "      <td>2866.000000</td>\n",
       "      <td>2350.000000</td>\n",
       "      <td>111133.000000</td>\n",
       "      <td>8.000000</td>\n",
       "      <td>0.000000</td>\n",
       "      <td>13.000000</td>\n",
       "    </tr>\n",
       "    <tr>\n",
       "      <th>75%</th>\n",
       "      <td>2.020033e+07</td>\n",
       "      <td>3032.000000</td>\n",
       "      <td>2520.000000</td>\n",
       "      <td>133123.000000</td>\n",
       "      <td>12.000000</td>\n",
       "      <td>0.000000</td>\n",
       "      <td>14.000000</td>\n",
       "    </tr>\n",
       "    <tr>\n",
       "      <th>max</th>\n",
       "      <td>2.020041e+07</td>\n",
       "      <td>3376.000000</td>\n",
       "      <td>3050.000000</td>\n",
       "      <td>333333.000000</td>\n",
       "      <td>18.000000</td>\n",
       "      <td>1.000000</td>\n",
       "      <td>19.000000</td>\n",
       "    </tr>\n",
       "  </tbody>\n",
       "</table>\n",
       "</div>"
      ],
      "text/plain": [
       "          StudyDate      Columns         Rows    BrixiaScore  \\\n",
       "count  4.695000e+03  4695.000000  4695.000000    4695.000000   \n",
       "mean   2.020033e+07  2893.870714  2405.938871  102119.305005   \n",
       "std    3.216685e+01   152.103555   142.821628   99594.274301   \n",
       "min    2.020030e+07  2019.000000  1056.000000       0.000000   \n",
       "25%    2.020032e+07  2866.000000  2350.000000   12002.000000   \n",
       "50%    2.020032e+07  2866.000000  2350.000000  111133.000000   \n",
       "75%    2.020033e+07  3032.000000  2520.000000  133123.000000   \n",
       "max    2.020041e+07  3376.000000  3050.000000  333333.000000   \n",
       "\n",
       "       BrixiaScoreGlobal  ConsensusTestset  AgeAtStudyDateFiveYear  \n",
       "count        4695.000000       4695.000000             4695.000000  \n",
       "mean            8.301171          0.031949               12.476677  \n",
       "std             4.238625          0.175883                2.723331  \n",
       "min             0.000000          0.000000                1.000000  \n",
       "25%             5.000000          0.000000               11.000000  \n",
       "50%             8.000000          0.000000               13.000000  \n",
       "75%            12.000000          0.000000               14.000000  \n",
       "max            18.000000          1.000000               19.000000  "
      ]
     },
     "execution_count": 14,
     "metadata": {},
     "output_type": "execute_result"
    }
   ],
   "source": [
    "df.describe()"
   ]
  },
  {
   "cell_type": "code",
   "execution_count": 12,
   "metadata": {},
   "outputs": [
    {
     "data": {
      "text/plain": [
       "(array([3273.,    0.,    0.,    0.,    0.,    0.,    0.,    0.,    0.,\n",
       "        1422.]),\n",
       " array([0. , 0.1, 0.2, 0.3, 0.4, 0.5, 0.6, 0.7, 0.8, 0.9, 1. ]),\n",
       " <BarContainer object of 10 artists>)"
      ]
     },
     "execution_count": 12,
     "metadata": {},
     "output_type": "execute_result"
    },
    {
     "data": {
      "image/png": "[encoded data removed]",
      "text/plain": [
       "<Figure size 640x480 with 1 Axes>"
      ]
     },
     "metadata": {},
     "output_type": "display_data"
    }
   ],
   "source": [
    "plt.hist(df['Sex'])"
   ]
  },
  {
   "cell_type": "code",
   "execution_count": 16,
   "metadata": {},
   "outputs": [
    {
     "data": {
      "text/plain": [
       "Text(0.5, 0, 'age (+=5)')"
      ]
     },
     "execution_count": 16,
     "metadata": {},
     "output_type": "execute_result"
    },
    {
     "data": {
      "image/png": "[encoded data removed]",
      "text/plain": [
       "<Figure size 640x480 with 1 Axes>"
      ]
     },
     "metadata": {},
     "output_type": "display_data"
    }
   ],
   "source": [
    "# AgeAtStudyDateFiveYear = Age of the patient in groups of five (i.e. 0-4yo is 0, 5-9yo is 1, ...)\n",
    "plt.hist(df['AgeAtStudyDateFiveYear']*5)\n",
    "plt.xlabel(\"age (+=5)\")"
   ]
  }
 ],
 "metadata": {
  "kernelspec": {
   "display_name": "Python 3",
   "language": "python",
   "name": "python3"
  },
  "language_info": {
   "codemirror_mode": {
    "name": "ipython",
    "version": 3
   },
   "file_extension": ".py",
   "mimetype": "text/x-python",
   "name": "python",
   "nbconvert_exporter": "python",
   "pygments_lexer": "ipython3",
   "version": "3.9.9"
  }
 },
 "nbformat": 4,
 "nbformat_minor": 2
}
